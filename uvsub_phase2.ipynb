{
 "cells": [
  {
   "cell_type": "markdown",
   "metadata": {},
   "source": [
    "## uvsub for Phase 2\n",
    "\n",
    "For phase 2 files. As of 10/5/17, I only have 5 of these.\n",
    "\n",
    "12/13/17: I have 18."
   ]
  },
  {
   "cell_type": "code",
   "execution_count": 1,
   "metadata": {
    "collapsed": true
   },
   "outputs": [],
   "source": [
    "#imports\n",
    "import numpy as np\n",
    "import pandas as pd\n",
    "import os\n",
    "import sys\n",
    "import subprocess\n",
    "import matplotlib as plt\n",
    "%matplotlib qt"
   ]
  },
  {
   "cell_type": "code",
   "execution_count": 2,
   "metadata": {
    "collapsed": true
   },
   "outputs": [],
   "source": [
    "#set to load in xlsx files(True) or txt files(False). Should return the same result either way.\n",
    "xlsx=True"
   ]
  },
  {
   "cell_type": "code",
   "execution_count": 3,
   "metadata": {
    "collapsed": false
   },
   "outputs": [],
   "source": [
    "#load in files\n",
    "files_raw = str(subprocess.check_output(['ls', 'Phase2/']))\n",
    "files = files_raw.split('\\\\n')\n",
    "\n",
    "#fix files\n",
    "files[0] = files[0][2:]#remove \"b' from beginning\n",
    "files=files[:-1]#remove non-entry last item\n",
    "\n",
    "filelist=[]\n",
    "#get rid of xlsx files from file selection\n",
    "if xlsx==False:\n",
    "    for filename in files:\n",
    "        if filename[-4:] == '.txt':\n",
    "            filelist.append(filename)\n",
    "#get rid of txt files from file selection\n",
    "if xlsx==True:\n",
    "    for filename in files:\n",
    "        if filename[-4:] == 'xlsx':\n",
    "            filelist.append(filename)\n",
    "            \n",
    "#last three observations have fucked frequencies, so getting rid of them here:\n",
    "#filelist=filelist[:-3]\n",
    "        \n",
    "#manipulate names in files, create observations list\n",
    "observations = []\n",
    "for i in range(0,len(filelist)):\n",
    "    if xlsx==False:\n",
    "        observations.append(filelist[i][8:-15])\n",
    "    if xlsx==True:\n",
    "        observations.append(filelist[i][:-5])\n",
    "\n",
    "obs_dfs = {}#dictionary of dataframes\n",
    "\n",
    "#read in files\n",
    "for obs in observations:\n",
    "    if obs not in obs_dfs.keys():\n",
    "        if xlsx==False:\n",
    "            obs_dfs[obs] = pd.read_table('Phase2/13B-266.'+obs+'.flag_stats.txt',sep=' ')\n",
    "            #fix each dataframe\n",
    "            obs_dfs[obs].drop(['#total','%flagged'],axis=1,inplace=True)\n",
    "            obs_dfs[obs].columns = ['freq','#flags','#total','%flagged']\n",
    "            obs_dfs[obs].set_index('freq',inplace=True)\n",
    "        if xlsx==True:\n",
    "            obs_dfs[obs] = pd.read_excel('Phase2/'+obs+'.xlsx')\n",
    "            #obs_dfs[obs].set_index('freq',inplace=True)\n",
    "            \n",
    "#clear some variables\n",
    "files_raw=None\n",
    "files=None\n",
    "filelist=None"
   ]
  },
  {
   "cell_type": "code",
   "execution_count": 4,
   "metadata": {
    "collapsed": false
   },
   "outputs": [],
   "source": [
    "#need to set index, apply to each obs df\n",
    "for obs in observations:\n",
    "    obs_dfs[obs].index=np.arange(int(obs_dfs[obs].index.min()),int(obs_dfs[obs].index.min())+480,0.015625)"
   ]
  },
  {
   "cell_type": "code",
   "execution_count": 5,
   "metadata": {
    "collapsed": false
   },
   "outputs": [
    {
     "data": {
      "text/plain": [
       "[479.984375,\n",
       " 479.984375,\n",
       " 479.984375,\n",
       " 479.984375,\n",
       " 479.984375,\n",
       " 479.984375,\n",
       " 479.984375,\n",
       " 479.984375,\n",
       " 479.984375,\n",
       " 479.984375,\n",
       " 479.984375,\n",
       " 479.984375,\n",
       " 479.984375,\n",
       " 479.984375,\n",
       " 479.984375,\n",
       " 479.984375,\n",
       " 479.984375,\n",
       " 479.984375]"
      ]
     },
     "execution_count": 5,
     "metadata": {},
     "output_type": "execute_result"
    }
   ],
   "source": [
    "#check the new index cols\n",
    "huh=[]\n",
    "for obs in observations:\n",
    "    #huh.append(obs_dfs[obs].index.min())#freq mininum. Should all be ~~~.6 \n",
    "    huh.append(obs_dfs[obs].index.max()-obs_dfs[obs].index.min())#bandwidth. Should all be same\n",
    "huh"
   ]
  },
  {
   "cell_type": "code",
   "execution_count": 6,
   "metadata": {
    "collapsed": true
   },
   "outputs": [],
   "source": [
    "#save these to excel files if desired\n",
    "for obs in observations:\n",
    "    writer=pd.ExcelWriter(obs+'.xlsx',engine='xlsxwriter')\n",
    "    obs_dfs[obs].to_excel(writer, sheet_name='Sheet1')\n",
    "    writer.save()\n",
    "    #FYI these will save to the same directory as the notebook"
   ]
  },
  {
   "cell_type": "markdown",
   "metadata": {},
   "source": [
    "## Doing stuff with phase 2 data"
   ]
  },
  {
   "cell_type": "code",
   "execution_count": 6,
   "metadata": {
    "collapsed": false,
    "scrolled": true
   },
   "outputs": [],
   "source": [
    "#plotting #flags versus frequency\n",
    "nplt=0\n",
    "for obs in observations:\n",
    "    if nplt==1:\n",
    "        obs_dfs[obs].plot(y='%flagged',ax=ax,legend=False,xlim=(1111,1113))\n",
    "    if nplt==0:\n",
    "        ax = obs_dfs[obs].plot(y='%flagged',legend=False,xlim=(1111,1113))\n",
    "        nplt=nplt+1"
   ]
  },
  {
   "cell_type": "code",
   "execution_count": 7,
   "metadata": {
    "collapsed": true
   },
   "outputs": [],
   "source": [
    "#add up all dataframes\n",
    "sum_array=[]"
   ]
  },
  {
   "cell_type": "code",
   "execution_count": 8,
   "metadata": {
    "collapsed": false,
    "scrolled": true
   },
   "outputs": [],
   "source": [
    "#create tot_df: 30720*len(observations) dataframe of %flagged columns from each observation\n",
    "count=0\n",
    "for obs in observations:\n",
    "    if count == 0:\n",
    "        #init dataframe\n",
    "        tot_df=obs_dfs[obs].drop(['#total','#flags'],axis=1)\n",
    "        tot_df.columns = [str(count)]\n",
    "        #tot_df=tot_df.set_index('index').index.name=None\n",
    "        count=count+1\n",
    "    if count >= 1:\n",
    "        #append dataframes\n",
    "        tot_df = pd.concat([tot_df,obs_dfs[obs].drop(['#total','#flags'],axis=1)],axis=1)\n",
    "        count=count+1\n",
    "\n",
    "#phase2total_df_norm: mean of %flagged from every observation for all frequencies (30720*1)\n",
    "phase2total_df_norm = pd.DataFrame(tot_df.mean(axis=1))"
   ]
  },
  {
   "cell_type": "code",
   "execution_count": 26,
   "metadata": {
    "collapsed": true
   },
   "outputs": [],
   "source": [
    "#phase2total_df_norm: mean of %flagged from every observation for all frequencies (30720*1)\n",
    "#phase2total_df_norm = pd.DataFrame(tot_df.mean(axis=1))"
   ]
  },
  {
   "cell_type": "code",
   "execution_count": 9,
   "metadata": {
    "collapsed": false
   },
   "outputs": [
    {
     "data": {
      "text/plain": [
       "[30720,\n",
       " 30720,\n",
       " 30720,\n",
       " 30720,\n",
       " 30720,\n",
       " 30720,\n",
       " 30720,\n",
       " 30720,\n",
       " 30720,\n",
       " 30720,\n",
       " 30720,\n",
       " 30720,\n",
       " 30720,\n",
       " 30720,\n",
       " 30720,\n",
       " 30720,\n",
       " 30720,\n",
       " 30720]"
      ]
     },
     "execution_count": 9,
     "metadata": {},
     "output_type": "execute_result"
    }
   ],
   "source": [
    "#see amount of freq channels for each observation\n",
    "lengths=[]\n",
    "for obs in observations:\n",
    "    lengths.append(len(obs_dfs[obs]))\n",
    "lengths"
   ]
  },
  {
   "cell_type": "code",
   "execution_count": 10,
   "metadata": {
    "collapsed": false,
    "scrolled": true
   },
   "outputs": [
    {
     "data": {
      "text/html": [
       "<div>\n",
       "<table border=\"1\" class=\"dataframe\">\n",
       "  <thead>\n",
       "    <tr style=\"text-align: right;\">\n",
       "      <th></th>\n",
       "      <th>#flags</th>\n",
       "      <th>#total</th>\n",
       "      <th>%flagged</th>\n",
       "    </tr>\n",
       "  </thead>\n",
       "  <tbody>\n",
       "    <tr>\n",
       "      <th>954.000000</th>\n",
       "      <td>1344200</td>\n",
       "      <td>1344200</td>\n",
       "      <td>1.000000</td>\n",
       "    </tr>\n",
       "    <tr>\n",
       "      <th>954.015625</th>\n",
       "      <td>1344200</td>\n",
       "      <td>1344200</td>\n",
       "      <td>1.000000</td>\n",
       "    </tr>\n",
       "    <tr>\n",
       "      <th>954.031250</th>\n",
       "      <td>1344200</td>\n",
       "      <td>1344200</td>\n",
       "      <td>1.000000</td>\n",
       "    </tr>\n",
       "    <tr>\n",
       "      <th>954.046875</th>\n",
       "      <td>1344200</td>\n",
       "      <td>1344200</td>\n",
       "      <td>1.000000</td>\n",
       "    </tr>\n",
       "    <tr>\n",
       "      <th>954.062500</th>\n",
       "      <td>1344200</td>\n",
       "      <td>1344200</td>\n",
       "      <td>1.000000</td>\n",
       "    </tr>\n",
       "    <tr>\n",
       "      <th>954.078125</th>\n",
       "      <td>1344200</td>\n",
       "      <td>1344200</td>\n",
       "      <td>1.000000</td>\n",
       "    </tr>\n",
       "    <tr>\n",
       "      <th>954.093750</th>\n",
       "      <td>1344200</td>\n",
       "      <td>1344200</td>\n",
       "      <td>1.000000</td>\n",
       "    </tr>\n",
       "    <tr>\n",
       "      <th>954.109375</th>\n",
       "      <td>1344200</td>\n",
       "      <td>1344200</td>\n",
       "      <td>1.000000</td>\n",
       "    </tr>\n",
       "    <tr>\n",
       "      <th>954.125000</th>\n",
       "      <td>1344200</td>\n",
       "      <td>1344200</td>\n",
       "      <td>1.000000</td>\n",
       "    </tr>\n",
       "    <tr>\n",
       "      <th>954.140625</th>\n",
       "      <td>1344200</td>\n",
       "      <td>1344200</td>\n",
       "      <td>1.000000</td>\n",
       "    </tr>\n",
       "    <tr>\n",
       "      <th>954.156250</th>\n",
       "      <td>1344200</td>\n",
       "      <td>1344200</td>\n",
       "      <td>1.000000</td>\n",
       "    </tr>\n",
       "    <tr>\n",
       "      <th>954.171875</th>\n",
       "      <td>1344200</td>\n",
       "      <td>1344200</td>\n",
       "      <td>1.000000</td>\n",
       "    </tr>\n",
       "    <tr>\n",
       "      <th>954.187500</th>\n",
       "      <td>1344200</td>\n",
       "      <td>1344200</td>\n",
       "      <td>1.000000</td>\n",
       "    </tr>\n",
       "    <tr>\n",
       "      <th>954.203125</th>\n",
       "      <td>1344200</td>\n",
       "      <td>1344200</td>\n",
       "      <td>1.000000</td>\n",
       "    </tr>\n",
       "    <tr>\n",
       "      <th>954.218750</th>\n",
       "      <td>1344200</td>\n",
       "      <td>1344200</td>\n",
       "      <td>1.000000</td>\n",
       "    </tr>\n",
       "    <tr>\n",
       "      <th>954.234375</th>\n",
       "      <td>1344200</td>\n",
       "      <td>1344200</td>\n",
       "      <td>1.000000</td>\n",
       "    </tr>\n",
       "    <tr>\n",
       "      <th>954.250000</th>\n",
       "      <td>1344200</td>\n",
       "      <td>1344200</td>\n",
       "      <td>1.000000</td>\n",
       "    </tr>\n",
       "    <tr>\n",
       "      <th>954.265625</th>\n",
       "      <td>1344200</td>\n",
       "      <td>1344200</td>\n",
       "      <td>1.000000</td>\n",
       "    </tr>\n",
       "    <tr>\n",
       "      <th>954.281250</th>\n",
       "      <td>1344200</td>\n",
       "      <td>1344200</td>\n",
       "      <td>1.000000</td>\n",
       "    </tr>\n",
       "    <tr>\n",
       "      <th>954.296875</th>\n",
       "      <td>1344200</td>\n",
       "      <td>1344200</td>\n",
       "      <td>1.000000</td>\n",
       "    </tr>\n",
       "    <tr>\n",
       "      <th>954.312500</th>\n",
       "      <td>1344200</td>\n",
       "      <td>1344200</td>\n",
       "      <td>1.000000</td>\n",
       "    </tr>\n",
       "    <tr>\n",
       "      <th>954.328125</th>\n",
       "      <td>1344200</td>\n",
       "      <td>1344200</td>\n",
       "      <td>1.000000</td>\n",
       "    </tr>\n",
       "    <tr>\n",
       "      <th>954.343750</th>\n",
       "      <td>1344200</td>\n",
       "      <td>1344200</td>\n",
       "      <td>1.000000</td>\n",
       "    </tr>\n",
       "    <tr>\n",
       "      <th>954.359375</th>\n",
       "      <td>1344200</td>\n",
       "      <td>1344200</td>\n",
       "      <td>1.000000</td>\n",
       "    </tr>\n",
       "    <tr>\n",
       "      <th>954.375000</th>\n",
       "      <td>1344200</td>\n",
       "      <td>1344200</td>\n",
       "      <td>1.000000</td>\n",
       "    </tr>\n",
       "    <tr>\n",
       "      <th>954.390625</th>\n",
       "      <td>1344200</td>\n",
       "      <td>1344200</td>\n",
       "      <td>1.000000</td>\n",
       "    </tr>\n",
       "    <tr>\n",
       "      <th>954.406250</th>\n",
       "      <td>1344200</td>\n",
       "      <td>1344200</td>\n",
       "      <td>1.000000</td>\n",
       "    </tr>\n",
       "    <tr>\n",
       "      <th>954.421875</th>\n",
       "      <td>1209732</td>\n",
       "      <td>1344200</td>\n",
       "      <td>0.899964</td>\n",
       "    </tr>\n",
       "    <tr>\n",
       "      <th>954.437500</th>\n",
       "      <td>1206314</td>\n",
       "      <td>1344200</td>\n",
       "      <td>0.897422</td>\n",
       "    </tr>\n",
       "    <tr>\n",
       "      <th>954.453125</th>\n",
       "      <td>1201853</td>\n",
       "      <td>1344200</td>\n",
       "      <td>0.894103</td>\n",
       "    </tr>\n",
       "    <tr>\n",
       "      <th>...</th>\n",
       "      <td>...</td>\n",
       "      <td>...</td>\n",
       "      <td>...</td>\n",
       "    </tr>\n",
       "    <tr>\n",
       "      <th>1433.531250</th>\n",
       "      <td>982665</td>\n",
       "      <td>1344200</td>\n",
       "      <td>0.731041</td>\n",
       "    </tr>\n",
       "    <tr>\n",
       "      <th>1433.546875</th>\n",
       "      <td>998987</td>\n",
       "      <td>1344200</td>\n",
       "      <td>0.743183</td>\n",
       "    </tr>\n",
       "    <tr>\n",
       "      <th>1433.562500</th>\n",
       "      <td>1019472</td>\n",
       "      <td>1344200</td>\n",
       "      <td>0.758423</td>\n",
       "    </tr>\n",
       "    <tr>\n",
       "      <th>1433.578125</th>\n",
       "      <td>1032908</td>\n",
       "      <td>1344200</td>\n",
       "      <td>0.768418</td>\n",
       "    </tr>\n",
       "    <tr>\n",
       "      <th>1433.593750</th>\n",
       "      <td>1048837</td>\n",
       "      <td>1344200</td>\n",
       "      <td>0.780269</td>\n",
       "    </tr>\n",
       "    <tr>\n",
       "      <th>1433.609375</th>\n",
       "      <td>1066993</td>\n",
       "      <td>1344200</td>\n",
       "      <td>0.793775</td>\n",
       "    </tr>\n",
       "    <tr>\n",
       "      <th>1433.625000</th>\n",
       "      <td>1083204</td>\n",
       "      <td>1344200</td>\n",
       "      <td>0.805835</td>\n",
       "    </tr>\n",
       "    <tr>\n",
       "      <th>1433.640625</th>\n",
       "      <td>1104476</td>\n",
       "      <td>1344200</td>\n",
       "      <td>0.821660</td>\n",
       "    </tr>\n",
       "    <tr>\n",
       "      <th>1433.656250</th>\n",
       "      <td>1123256</td>\n",
       "      <td>1344200</td>\n",
       "      <td>0.835632</td>\n",
       "    </tr>\n",
       "    <tr>\n",
       "      <th>1433.671875</th>\n",
       "      <td>1141206</td>\n",
       "      <td>1344200</td>\n",
       "      <td>0.848985</td>\n",
       "    </tr>\n",
       "    <tr>\n",
       "      <th>1433.687500</th>\n",
       "      <td>1157404</td>\n",
       "      <td>1344200</td>\n",
       "      <td>0.861036</td>\n",
       "    </tr>\n",
       "    <tr>\n",
       "      <th>1433.703125</th>\n",
       "      <td>1176255</td>\n",
       "      <td>1344200</td>\n",
       "      <td>0.875060</td>\n",
       "    </tr>\n",
       "    <tr>\n",
       "      <th>1433.718750</th>\n",
       "      <td>1193747</td>\n",
       "      <td>1344200</td>\n",
       "      <td>0.888072</td>\n",
       "    </tr>\n",
       "    <tr>\n",
       "      <th>1433.734375</th>\n",
       "      <td>1206975</td>\n",
       "      <td>1344200</td>\n",
       "      <td>0.897913</td>\n",
       "    </tr>\n",
       "    <tr>\n",
       "      <th>1433.750000</th>\n",
       "      <td>1344200</td>\n",
       "      <td>1344200</td>\n",
       "      <td>1.000000</td>\n",
       "    </tr>\n",
       "    <tr>\n",
       "      <th>1433.765625</th>\n",
       "      <td>1344200</td>\n",
       "      <td>1344200</td>\n",
       "      <td>1.000000</td>\n",
       "    </tr>\n",
       "    <tr>\n",
       "      <th>1433.781250</th>\n",
       "      <td>1344200</td>\n",
       "      <td>1344200</td>\n",
       "      <td>1.000000</td>\n",
       "    </tr>\n",
       "    <tr>\n",
       "      <th>1433.796875</th>\n",
       "      <td>1344200</td>\n",
       "      <td>1344200</td>\n",
       "      <td>1.000000</td>\n",
       "    </tr>\n",
       "    <tr>\n",
       "      <th>1433.812500</th>\n",
       "      <td>1344200</td>\n",
       "      <td>1344200</td>\n",
       "      <td>1.000000</td>\n",
       "    </tr>\n",
       "    <tr>\n",
       "      <th>1433.828125</th>\n",
       "      <td>1344200</td>\n",
       "      <td>1344200</td>\n",
       "      <td>1.000000</td>\n",
       "    </tr>\n",
       "    <tr>\n",
       "      <th>1433.843750</th>\n",
       "      <td>1344200</td>\n",
       "      <td>1344200</td>\n",
       "      <td>1.000000</td>\n",
       "    </tr>\n",
       "    <tr>\n",
       "      <th>1433.859375</th>\n",
       "      <td>1344200</td>\n",
       "      <td>1344200</td>\n",
       "      <td>1.000000</td>\n",
       "    </tr>\n",
       "    <tr>\n",
       "      <th>1433.875000</th>\n",
       "      <td>1344200</td>\n",
       "      <td>1344200</td>\n",
       "      <td>1.000000</td>\n",
       "    </tr>\n",
       "    <tr>\n",
       "      <th>1433.890625</th>\n",
       "      <td>1344200</td>\n",
       "      <td>1344200</td>\n",
       "      <td>1.000000</td>\n",
       "    </tr>\n",
       "    <tr>\n",
       "      <th>1433.906250</th>\n",
       "      <td>1344200</td>\n",
       "      <td>1344200</td>\n",
       "      <td>1.000000</td>\n",
       "    </tr>\n",
       "    <tr>\n",
       "      <th>1433.921875</th>\n",
       "      <td>1344200</td>\n",
       "      <td>1344200</td>\n",
       "      <td>1.000000</td>\n",
       "    </tr>\n",
       "    <tr>\n",
       "      <th>1433.937500</th>\n",
       "      <td>1344200</td>\n",
       "      <td>1344200</td>\n",
       "      <td>1.000000</td>\n",
       "    </tr>\n",
       "    <tr>\n",
       "      <th>1433.953125</th>\n",
       "      <td>1344200</td>\n",
       "      <td>1344200</td>\n",
       "      <td>1.000000</td>\n",
       "    </tr>\n",
       "    <tr>\n",
       "      <th>1433.968750</th>\n",
       "      <td>1344200</td>\n",
       "      <td>1344200</td>\n",
       "      <td>1.000000</td>\n",
       "    </tr>\n",
       "    <tr>\n",
       "      <th>1433.984375</th>\n",
       "      <td>1344200</td>\n",
       "      <td>1344200</td>\n",
       "      <td>1.000000</td>\n",
       "    </tr>\n",
       "  </tbody>\n",
       "</table>\n",
       "<p>30720 rows × 3 columns</p>\n",
       "</div>"
      ],
      "text/plain": [
       "              #flags   #total  %flagged\n",
       "954.000000   1344200  1344200  1.000000\n",
       "954.015625   1344200  1344200  1.000000\n",
       "954.031250   1344200  1344200  1.000000\n",
       "954.046875   1344200  1344200  1.000000\n",
       "954.062500   1344200  1344200  1.000000\n",
       "954.078125   1344200  1344200  1.000000\n",
       "954.093750   1344200  1344200  1.000000\n",
       "954.109375   1344200  1344200  1.000000\n",
       "954.125000   1344200  1344200  1.000000\n",
       "954.140625   1344200  1344200  1.000000\n",
       "954.156250   1344200  1344200  1.000000\n",
       "954.171875   1344200  1344200  1.000000\n",
       "954.187500   1344200  1344200  1.000000\n",
       "954.203125   1344200  1344200  1.000000\n",
       "954.218750   1344200  1344200  1.000000\n",
       "954.234375   1344200  1344200  1.000000\n",
       "954.250000   1344200  1344200  1.000000\n",
       "954.265625   1344200  1344200  1.000000\n",
       "954.281250   1344200  1344200  1.000000\n",
       "954.296875   1344200  1344200  1.000000\n",
       "954.312500   1344200  1344200  1.000000\n",
       "954.328125   1344200  1344200  1.000000\n",
       "954.343750   1344200  1344200  1.000000\n",
       "954.359375   1344200  1344200  1.000000\n",
       "954.375000   1344200  1344200  1.000000\n",
       "954.390625   1344200  1344200  1.000000\n",
       "954.406250   1344200  1344200  1.000000\n",
       "954.421875   1209732  1344200  0.899964\n",
       "954.437500   1206314  1344200  0.897422\n",
       "954.453125   1201853  1344200  0.894103\n",
       "...              ...      ...       ...\n",
       "1433.531250   982665  1344200  0.731041\n",
       "1433.546875   998987  1344200  0.743183\n",
       "1433.562500  1019472  1344200  0.758423\n",
       "1433.578125  1032908  1344200  0.768418\n",
       "1433.593750  1048837  1344200  0.780269\n",
       "1433.609375  1066993  1344200  0.793775\n",
       "1433.625000  1083204  1344200  0.805835\n",
       "1433.640625  1104476  1344200  0.821660\n",
       "1433.656250  1123256  1344200  0.835632\n",
       "1433.671875  1141206  1344200  0.848985\n",
       "1433.687500  1157404  1344200  0.861036\n",
       "1433.703125  1176255  1344200  0.875060\n",
       "1433.718750  1193747  1344200  0.888072\n",
       "1433.734375  1206975  1344200  0.897913\n",
       "1433.750000  1344200  1344200  1.000000\n",
       "1433.765625  1344200  1344200  1.000000\n",
       "1433.781250  1344200  1344200  1.000000\n",
       "1433.796875  1344200  1344200  1.000000\n",
       "1433.812500  1344200  1344200  1.000000\n",
       "1433.828125  1344200  1344200  1.000000\n",
       "1433.843750  1344200  1344200  1.000000\n",
       "1433.859375  1344200  1344200  1.000000\n",
       "1433.875000  1344200  1344200  1.000000\n",
       "1433.890625  1344200  1344200  1.000000\n",
       "1433.906250  1344200  1344200  1.000000\n",
       "1433.921875  1344200  1344200  1.000000\n",
       "1433.937500  1344200  1344200  1.000000\n",
       "1433.953125  1344200  1344200  1.000000\n",
       "1433.968750  1344200  1344200  1.000000\n",
       "1433.984375  1344200  1344200  1.000000\n",
       "\n",
       "[30720 rows x 3 columns]"
      ]
     },
     "execution_count": 10,
     "metadata": {},
     "output_type": "execute_result"
    }
   ],
   "source": [
    "#example dataframe for one observation\n",
    "obs_dfs[obs]"
   ]
  },
  {
   "cell_type": "code",
   "execution_count": 11,
   "metadata": {
    "collapsed": true
   },
   "outputs": [],
   "source": [
    "#save phase2total_df_norm:\n",
    "writer=pd.ExcelWriter('phase2total_df_norm.xlsx',engine='xlsxwriter')\n",
    "obs_dfs[obs].to_excel(writer, sheet_name='Sheet1')\n",
    "writer.save()"
   ]
  },
  {
   "cell_type": "markdown",
   "metadata": {},
   "source": [
    "## Load in phase 1 data to compare"
   ]
  },
  {
   "cell_type": "code",
   "execution_count": 12,
   "metadata": {
    "collapsed": true
   },
   "outputs": [],
   "source": [
    "#load phase1total_df.xlsx\n",
    "phase1total_df = pd.read_excel('phase1total_df.xlsx')"
   ]
  },
  {
   "cell_type": "code",
   "execution_count": 30,
   "metadata": {
    "collapsed": false
   },
   "outputs": [],
   "source": [
    "# no need to run this cell\n",
    "phase1_max = phase1total_df.max() #phase 1 data max, no need to run this cell"
   ]
  },
  {
   "cell_type": "code",
   "execution_count": 13,
   "metadata": {
    "collapsed": true
   },
   "outputs": [],
   "source": [
    "#function to apply to phase1total_df\n",
    "norm_flip = lambda x: 1 - (x/43318941) #divide by theoretical max, 1 minus to fit phase 2 data\n",
    "\n",
    "phase1total_df_norm = phase1total_df.apply(norm_flip,axis=1)\n",
    "#phase1total_df_norm is normalized version of phase1total_df\n",
    "\n",
    "#rename columns for plot legend\n",
    "phase1total_df_norm.columns=['Phase 1']\n",
    "phase2total_df_norm.columns=['Phase 2']"
   ]
  },
  {
   "cell_type": "code",
   "execution_count": 61,
   "metadata": {
    "collapsed": true
   },
   "outputs": [],
   "source": [
    "#save phase1total_df_norm:\n",
    "writer=pd.ExcelWriter('phase1total_df_norm.xlsx',engine='xlsxwriter')\n",
    "phase1total_df_norm.to_excel(writer, sheet_name='Sheet1')\n",
    "writer.save()"
   ]
  },
  {
   "cell_type": "code",
   "execution_count": 28,
   "metadata": {
    "collapsed": false
   },
   "outputs": [],
   "source": [
    "#create dictionary of normalized dataframes of phase 1 and 2, plot that shit\n",
    "norm_dfs = {}\n",
    "norm_dfs['phase1']=phase1total_df_norm\n",
    "norm_dfs['phase2']=phase2total_df_norm\n",
    "nplt=0\n",
    "for df in norm_dfs.keys():\n",
    "    if nplt==1:\n",
    "        norm_dfs[df].plot(ax=ax,grid=True,yticks=[0.1,0.2,0.3,0.4,0.5,0.6,0.7,0.8,0.9,1],legend=True)\n",
    "    if nplt==0:\n",
    "        ax = norm_dfs[df].plot(grid=True,yticks=[0.1,0.2,0.3,0.4,0.5,0.6,0.7,0.8,0.9,1],legend=True)\n",
    "        nplt=nplt+1\n",
    "#phase1norm_phase2norm.tiff or For_CHILES/phase12_norm.tiff"
   ]
  },
  {
   "cell_type": "code",
   "execution_count": 62,
   "metadata": {
    "collapsed": false
   },
   "outputs": [
    {
     "data": {
      "text/plain": [
       "30464"
      ]
     },
     "execution_count": 62,
     "metadata": {},
     "output_type": "execute_result"
    }
   ],
   "source": [
    "len(phase1total_df_norm)"
   ]
  },
  {
   "cell_type": "code",
   "execution_count": 19,
   "metadata": {
    "collapsed": false
   },
   "outputs": [
    {
     "data": {
      "text/plain": [
       "<matplotlib.axes._subplots.AxesSubplot at 0x127f13550>"
      ]
     },
     "execution_count": 19,
     "metadata": {},
     "output_type": "execute_result"
    }
   ],
   "source": [
    "norm_dfs['phase2'].plot(xlim=(1130,1131))"
   ]
  },
  {
   "cell_type": "code",
   "execution_count": 24,
   "metadata": {
    "collapsed": false
   },
   "outputs": [
    {
     "data": {
      "text/plain": [
       "16"
      ]
     },
     "execution_count": 24,
     "metadata": {},
     "output_type": "execute_result"
    }
   ],
   "source": [
    "len(observations)"
   ]
  },
  {
   "cell_type": "code",
   "execution_count": 45,
   "metadata": {
    "collapsed": false
   },
   "outputs": [],
   "source": [
    "#Extra: plot For_CHILES/phase12_norm.tiff but only in the frequency ranges 1200-1222MHZ, 1260-1282MHz\n",
    "ticks1200=list(range(1200,1223))\n",
    "ticks1260=list(range(1260,1283))\n",
    "nplt=0\n",
    "\n",
    "for df in norm_dfs.keys():\n",
    "    if nplt==1:\n",
    "        norm_dfs[df][1200:1223].plot(ax=ax1200,grid=True,yticks=[0.1,0.2,0.3,0.4,0.5,0.6,0.7,0.8,0.9,1],xticks=ticks1200,legend=True)\n",
    "    if nplt==0:\n",
    "        ax1200 = norm_dfs[df][1200:1223].plot(grid=True,yticks=[0.1,0.2,0.3,0.4,0.5,0.6,0.7,0.8,0.9,1],xticks=ticks1200,legend=True)\n",
    "        nplt=nplt+1\n",
    "#phase12_norm_1200.tiff"
   ]
  },
  {
   "cell_type": "code",
   "execution_count": 46,
   "metadata": {
    "collapsed": true
   },
   "outputs": [],
   "source": [
    "#second plotting for above cell\n",
    "nplt=0\n",
    "for df in norm_dfs.keys():\n",
    "    if nplt==1:\n",
    "        norm_dfs[df][1260:1283].plot(ax=ax1260,grid=True,yticks=[0.1,0.2,0.3,0.4,0.5,0.6,0.7,0.8,0.9,1],xticks=ticks1260,legend=True)\n",
    "    if nplt==0:\n",
    "        ax1260 = norm_dfs[df][1260:1283].plot(grid=True,yticks=[0.1,0.2,0.3,0.4,0.5,0.6,0.7,0.8,0.9,1],xticks=ticks1260,legend=True)\n",
    "        nplt=nplt+1\n",
    "#phase12_norm_1260.tiff"
   ]
  },
  {
   "cell_type": "code",
   "execution_count": 48,
   "metadata": {
    "collapsed": false
   },
   "outputs": [
    {
     "data": {
      "text/plain": [
       "['sb30134968.eb30452820.57078.09859436343',\n",
       " 'sb30134968.eb30465086.57081.090475219906',\n",
       " 'sb30134968.eb30474259.57093.09921111111',\n",
       " 'sb30134968.eb30477450.57096.05290840278',\n",
       " 'sb30134968.eb30479375.57097.146173298606',\n",
       " 'sb30134968.eb30483429.57099.04607552083',\n",
       " 'sb30135053.eb30467755.57084.082227430554',\n",
       " 'sb30135053.eb30508373.57105.020166180555',\n",
       " 'sb30135053.eb30512680.57108.051298645834',\n",
       " 'sb30135138.eb30514540.57110.0097362963',\n",
       " 'sb30135138.eb30516312.57114.0210734375',\n",
       " 'sb30135138.eb30519238.57115.0392883912',\n",
       " 'sb30135308.eb30612630.57131.92938252314',\n",
       " 'sb30135393.eb30614637.57132.979567685186',\n",
       " 'sb30136049.eb30635090.57146.01679417824',\n",
       " 'sb32005783.eb32150558.57527.97051119213',\n",
       " 'sb32005783.eb32214781.57538.84848486111',\n",
       " 'sb32005783.eb32219840.57539.92867947917']"
      ]
     },
     "execution_count": 48,
     "metadata": {},
     "output_type": "execute_result"
    }
   ],
   "source": [
    "observations"
   ]
  },
  {
   "cell_type": "markdown",
   "metadata": {
    "collapsed": true
   },
   "source": [
    "## Create flagging percentage vs. flags amount for Phase 1 and 2\n",
    "\n",
    "Create the same plot as npts_count, but with phase 2 and phase 1 data on same plot\n",
    "\n",
    "Have to normalize each separately\n",
    "\n",
    "#for each npts value, compute how many data points are above and below"
   ]
  },
  {
   "cell_type": "code",
   "execution_count": null,
   "metadata": {
    "collapsed": true
   },
   "outputs": [],
   "source": [
    "#phase 1 code\n",
    "#copied from uvsub.ipynb and modified names \n",
    "\n",
    "#list of data created\n",
    "npts_data=[]\n",
    "\n",
    "#turn this array into ints\n",
    "totdata=totdata.astype('int')\n",
    "\n",
    "#now run through all possible npts values (resolution 100) and see how many freq data points are above\n",
    "#add the npts_val and gcount to npts_data list\n",
    "for npts_val in range(0,totdata.max(),100):\n",
    "    npts_data.append([npts_val,sum(totdata > npts_val)])\n",
    "#this takes a while, can reduce time and npts-resolution by increasing step size in for loop above\n",
    "#for reference, totdata.max() = 33139217 \n",
    "\n",
    "#turns resulting npts_data into dataframe and\n",
    "#resets npts_data to save RAM\n",
    "npts_df = pd.DataFrame(npts_data)\n",
    "npts_data = []\n",
    "\n",
    "#fixes index column\n",
    "npts_df.set_index(0,inplace=True)"
   ]
  }
 ],
 "metadata": {
  "anaconda-cloud": {},
  "kernelspec": {
   "display_name": "Python [Root]",
   "language": "python",
   "name": "Python [Root]"
  },
  "language_info": {
   "codemirror_mode": {
    "name": "ipython",
    "version": 3
   },
   "file_extension": ".py",
   "mimetype": "text/x-python",
   "name": "python",
   "nbconvert_exporter": "python",
   "pygments_lexer": "ipython3",
   "version": "3.5.2"
  }
 },
 "nbformat": 4,
 "nbformat_minor": 0
}
